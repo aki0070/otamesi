{
 "cells": [
  {
   "cell_type": "code",
   "execution_count": 8,
   "id": "7f7792f6",
   "metadata": {},
   "outputs": [
    {
     "name": "stdout",
     "output_type": "stream",
     "text": [
      "siroとひしがんが現れた。\n"
     ]
    }
   ],
   "source": [
    "def apper(word1, word2):\n",
    "    result = word1+\"と\"+word2 + \"が現れた。\"\n",
    "    return result\n",
    "\n",
    "show = apper(\"siro\",\"ひしがん\")\n",
    "print(show)\n",
    "    \n",
    "    # Returns False because 0 is the same as False\n",
    "\n",
    "    \n",
    "\n"
   ]
  }
 ],
 "metadata": {
  "kernelspec": {
   "display_name": "Python 3",
   "language": "python",
   "name": "python3"
  },
  "language_info": {
   "codemirror_mode": {
    "name": "ipython",
    "version": 3
   },
   "file_extension": ".py",
   "mimetype": "text/x-python",
   "name": "python",
   "nbconvert_exporter": "python",
   "pygments_lexer": "ipython3",
   "version": "3.12.3"
  }
 },
 "nbformat": 4,
 "nbformat_minor": 5
}
